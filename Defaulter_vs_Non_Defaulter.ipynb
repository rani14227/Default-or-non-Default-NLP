{
  "cells": [
    {
      "cell_type": "markdown",
      "metadata": {
        "id": "v3dqwGzhi3TQ"
      },
      "source": [
        "**MLP Classifier Model**\n",
        "\n",
        "Train Accuracy 99%\n",
        "\n",
        "Test Accuracy 99%"
      ]
    },
    {
      "cell_type": "markdown",
      "source": [
        "In this problem, I will predict the probability of the person or customer defaulting and then go on to classify them as defaulters or non-defaulters. Clean/ transform the data as necessary, perform EDA to analyze the relationship b/w the Status(Target) and the remaining features(Independant). Use a sequential Neural Network model (Feed Forward) to classify the outcome (Defaulter vs Non Defaulter)."
      ],
      "metadata": {
        "id": "pr9WfJrKUYyP"
      }
    },
    {
      "cell_type": "code",
      "execution_count": null,
      "metadata": {
        "id": "iP2QwNh1TkiG"
      },
      "outputs": [],
      "source": [
        "import pandas as pd\n",
        "import numpy as np\n",
        "import matplotlib.pyplot as plt\n",
        "import seaborn as sns"
      ]
    },
    {
      "cell_type": "code",
      "execution_count": null,
      "metadata": {
        "id": "vDJkV-2oTS4_"
      },
      "outputs": [],
      "source": [
        "df = pd.read_csv('default.csv')"
      ]
    },
    {
      "cell_type": "code",
      "execution_count": null,
      "metadata": {
        "id": "zmUY1XN6WPYV"
      },
      "outputs": [],
      "source": [
        "data = pd.read_csv('default.csv')"
      ]
    },
    {
      "cell_type": "code",
      "execution_count": null,
      "metadata": {
        "colab": {
          "base_uri": "https://localhost:8080/",
          "height": 204
        },
        "id": "04bM7ZwITiYs",
        "outputId": "883a479d-474a-4064-f025-6524f1d11465"
      },
      "outputs": [
        {
          "data": {
            "text/html": [
              "<div>\n",
              "<style scoped>\n",
              "    .dataframe tbody tr th:only-of-type {\n",
              "        vertical-align: middle;\n",
              "    }\n",
              "\n",
              "    .dataframe tbody tr th {\n",
              "        vertical-align: top;\n",
              "    }\n",
              "\n",
              "    .dataframe thead th {\n",
              "        text-align: right;\n",
              "    }\n",
              "</style>\n",
              "<table border=\"1\" class=\"dataframe\">\n",
              "  <thead>\n",
              "    <tr style=\"text-align: right;\">\n",
              "      <th></th>\n",
              "      <th>Gender</th>\n",
              "      <th>LoanOffered</th>\n",
              "      <th>Job</th>\n",
              "      <th>WorkExp</th>\n",
              "      <th>CreditScore</th>\n",
              "      <th>EMIRatio</th>\n",
              "      <th>Status</th>\n",
              "      <th>CreditHistory</th>\n",
              "      <th>Ownhouse</th>\n",
              "      <th>Purpose</th>\n",
              "      <th>Dependents</th>\n",
              "    </tr>\n",
              "  </thead>\n",
              "  <tbody>\n",
              "    <tr>\n",
              "      <th>0</th>\n",
              "      <td>Male</td>\n",
              "      <td>0</td>\n",
              "      <td>unskilled</td>\n",
              "      <td>14</td>\n",
              "      <td>86</td>\n",
              "      <td>3.0</td>\n",
              "      <td>No</td>\n",
              "      <td>poor</td>\n",
              "      <td>1</td>\n",
              "      <td>personal</td>\n",
              "      <td>2</td>\n",
              "    </tr>\n",
              "    <tr>\n",
              "      <th>1</th>\n",
              "      <td>Female</td>\n",
              "      <td>1</td>\n",
              "      <td>skilled</td>\n",
              "      <td>15</td>\n",
              "      <td>94</td>\n",
              "      <td>3.0</td>\n",
              "      <td>No</td>\n",
              "      <td>poor</td>\n",
              "      <td>1</td>\n",
              "      <td>personal</td>\n",
              "      <td>3</td>\n",
              "    </tr>\n",
              "    <tr>\n",
              "      <th>2</th>\n",
              "      <td>Male</td>\n",
              "      <td>0</td>\n",
              "      <td>unskilled</td>\n",
              "      <td>16</td>\n",
              "      <td>86</td>\n",
              "      <td>3.0</td>\n",
              "      <td>No</td>\n",
              "      <td>poor</td>\n",
              "      <td>1</td>\n",
              "      <td>personal</td>\n",
              "      <td>2</td>\n",
              "    </tr>\n",
              "    <tr>\n",
              "      <th>3</th>\n",
              "      <td>Female</td>\n",
              "      <td>1</td>\n",
              "      <td>skilled</td>\n",
              "      <td>13</td>\n",
              "      <td>94</td>\n",
              "      <td>3.0</td>\n",
              "      <td>No</td>\n",
              "      <td>poor</td>\n",
              "      <td>1</td>\n",
              "      <td>personal</td>\n",
              "      <td>3</td>\n",
              "    </tr>\n",
              "    <tr>\n",
              "      <th>4</th>\n",
              "      <td>Male</td>\n",
              "      <td>1</td>\n",
              "      <td>skilled</td>\n",
              "      <td>12</td>\n",
              "      <td>85</td>\n",
              "      <td>3.3</td>\n",
              "      <td>No</td>\n",
              "      <td>poor</td>\n",
              "      <td>1</td>\n",
              "      <td>personal</td>\n",
              "      <td>2</td>\n",
              "    </tr>\n",
              "  </tbody>\n",
              "</table>\n",
              "</div>"
            ],
            "text/plain": [
              "   Gender  LoanOffered        Job  ...  Ownhouse   Purpose  Dependents\n",
              "0    Male            0  unskilled  ...         1  personal           2\n",
              "1  Female            1    skilled  ...         1  personal           3\n",
              "2    Male            0  unskilled  ...         1  personal           2\n",
              "3  Female            1    skilled  ...         1  personal           3\n",
              "4    Male            1    skilled  ...         1  personal           2\n",
              "\n",
              "[5 rows x 11 columns]"
            ]
          },
          "execution_count": 93,
          "metadata": {},
          "output_type": "execute_result"
        }
      ],
      "source": [
        "df.head()"
      ]
    },
    {
      "cell_type": "code",
      "execution_count": null,
      "metadata": {
        "colab": {
          "base_uri": "https://localhost:8080/"
        },
        "id": "XCPe-SglTs_J",
        "outputId": "10b23455-a2c5-49c4-8209-f20c37939f83"
      },
      "outputs": [
        {
          "data": {
            "text/plain": [
              "Gender           0\n",
              "LoanOffered      0\n",
              "Job              0\n",
              "WorkExp          0\n",
              "CreditScore      0\n",
              "EMIRatio         0\n",
              "Status           0\n",
              "CreditHistory    0\n",
              "Ownhouse         0\n",
              "Purpose          0\n",
              "Dependents       0\n",
              "dtype: int64"
            ]
          },
          "execution_count": 94,
          "metadata": {},
          "output_type": "execute_result"
        }
      ],
      "source": [
        "df.isnull().sum()"
      ]
    },
    {
      "cell_type": "code",
      "execution_count": null,
      "metadata": {
        "colab": {
          "base_uri": "https://localhost:8080/"
        },
        "id": "iGZ1SEfJTvej",
        "outputId": "8c331ef5-963a-4ceb-fcb2-299399396b6a"
      },
      "outputs": [
        {
          "name": "stdout",
          "output_type": "stream",
          "text": [
            "<class 'pandas.core.frame.DataFrame'>\n",
            "RangeIndex: 781 entries, 0 to 780\n",
            "Data columns (total 11 columns):\n",
            " #   Column         Non-Null Count  Dtype  \n",
            "---  ------         --------------  -----  \n",
            " 0   Gender         781 non-null    object \n",
            " 1   LoanOffered    781 non-null    int64  \n",
            " 2   Job            781 non-null    object \n",
            " 3   WorkExp        781 non-null    int64  \n",
            " 4   CreditScore    781 non-null    int64  \n",
            " 5   EMIRatio       781 non-null    float64\n",
            " 6   Status         781 non-null    object \n",
            " 7   CreditHistory  781 non-null    object \n",
            " 8   Ownhouse       781 non-null    int64  \n",
            " 9   Purpose        781 non-null    object \n",
            " 10  Dependents     781 non-null    int64  \n",
            "dtypes: float64(1), int64(5), object(5)\n",
            "memory usage: 67.2+ KB\n"
          ]
        }
      ],
      "source": [
        "df.info()"
      ]
    },
    {
      "cell_type": "code",
      "execution_count": null,
      "metadata": {
        "colab": {
          "base_uri": "https://localhost:8080/"
        },
        "id": "PjstL4HmTxfn",
        "outputId": "f32cf55a-be15-4119-ac61-8dcaddb12218"
      },
      "outputs": [
        {
          "data": {
            "text/plain": [
              "Male      548\n",
              "Female    233\n",
              "Name: Gender, dtype: int64"
            ]
          },
          "execution_count": 96,
          "metadata": {},
          "output_type": "execute_result"
        }
      ],
      "source": [
        "df['Gender'].value_counts()"
      ]
    },
    {
      "cell_type": "code",
      "execution_count": null,
      "metadata": {
        "colab": {
          "base_uri": "https://localhost:8080/"
        },
        "id": "UtjMd3zcUMPG",
        "outputId": "8f7b59c2-f7cd-413f-fc8d-efbb4d67e4a3"
      },
      "outputs": [
        {
          "data": {
            "text/plain": [
              "skilled       557\n",
              "Management    119\n",
              "unskilled     105\n",
              "Name: Job, dtype: int64"
            ]
          },
          "execution_count": 97,
          "metadata": {},
          "output_type": "execute_result"
        }
      ],
      "source": [
        "df['Job'].value_counts()"
      ]
    },
    {
      "cell_type": "code",
      "execution_count": null,
      "metadata": {
        "colab": {
          "base_uri": "https://localhost:8080/"
        },
        "id": "n-P1RRfgUQAQ",
        "outputId": "35f55c2b-0029-4587-fa35-b255498a439b"
      },
      "outputs": [
        {
          "data": {
            "text/plain": [
              "No         656\n",
              "Default    125\n",
              "Name: Status, dtype: int64"
            ]
          },
          "execution_count": 98,
          "metadata": {},
          "output_type": "execute_result"
        }
      ],
      "source": [
        "df['Status'].value_counts()"
      ]
    },
    {
      "cell_type": "code",
      "execution_count": null,
      "metadata": {
        "colab": {
          "base_uri": "https://localhost:8080/"
        },
        "id": "VZsay9KcUTJ6",
        "outputId": "19bf89ea-680f-4c67-942a-da4c6e4e5138"
      },
      "outputs": [
        {
          "data": {
            "text/plain": [
              "verygood    265\n",
              "good        235\n",
              "critical    184\n",
              "poor         97\n",
              "Name: CreditHistory, dtype: int64"
            ]
          },
          "execution_count": 99,
          "metadata": {},
          "output_type": "execute_result"
        }
      ],
      "source": [
        "df['CreditHistory'].value_counts()"
      ]
    },
    {
      "cell_type": "code",
      "execution_count": null,
      "metadata": {
        "colab": {
          "base_uri": "https://localhost:8080/"
        },
        "id": "8JydarTCV1FG",
        "outputId": "50e905b0-a59c-4e56-816c-e8f6e5bc4145"
      },
      "outputs": [
        {
          "data": {
            "text/plain": [
              "consumerdurable    280\n",
              "car                260\n",
              "education          125\n",
              "personal           116\n",
              "Name: Purpose, dtype: int64"
            ]
          },
          "execution_count": 100,
          "metadata": {},
          "output_type": "execute_result"
        }
      ],
      "source": [
        "df['Purpose'].value_counts()"
      ]
    },
    {
      "cell_type": "code",
      "execution_count": null,
      "metadata": {
        "colab": {
          "base_uri": "https://localhost:8080/",
          "height": 235
        },
        "id": "BD6gElN6UaeJ",
        "outputId": "8d8c8dca-8ada-4f3d-fc29-fce9a41986a8"
      },
      "outputs": [
        {
          "data": {
            "text/html": [
              "<div>\n",
              "<style scoped>\n",
              "    .dataframe tbody tr th:only-of-type {\n",
              "        vertical-align: middle;\n",
              "    }\n",
              "\n",
              "    .dataframe tbody tr th {\n",
              "        vertical-align: top;\n",
              "    }\n",
              "\n",
              "    .dataframe thead th {\n",
              "        text-align: right;\n",
              "    }\n",
              "</style>\n",
              "<table border=\"1\" class=\"dataframe\">\n",
              "  <thead>\n",
              "    <tr style=\"text-align: right;\">\n",
              "      <th></th>\n",
              "      <th>count</th>\n",
              "      <th>mean</th>\n",
              "      <th>std</th>\n",
              "      <th>min</th>\n",
              "      <th>25%</th>\n",
              "      <th>50%</th>\n",
              "      <th>75%</th>\n",
              "      <th>max</th>\n",
              "    </tr>\n",
              "  </thead>\n",
              "  <tbody>\n",
              "    <tr>\n",
              "      <th>LoanOffered</th>\n",
              "      <td>781.0</td>\n",
              "      <td>0.756722</td>\n",
              "      <td>0.429336</td>\n",
              "      <td>0.0</td>\n",
              "      <td>1.0</td>\n",
              "      <td>1.0</td>\n",
              "      <td>1.0</td>\n",
              "      <td>1.0</td>\n",
              "    </tr>\n",
              "    <tr>\n",
              "      <th>WorkExp</th>\n",
              "      <td>781.0</td>\n",
              "      <td>12.377721</td>\n",
              "      <td>3.809161</td>\n",
              "      <td>0.0</td>\n",
              "      <td>11.0</td>\n",
              "      <td>13.0</td>\n",
              "      <td>15.0</td>\n",
              "      <td>19.0</td>\n",
              "    </tr>\n",
              "    <tr>\n",
              "      <th>CreditScore</th>\n",
              "      <td>781.0</td>\n",
              "      <td>83.597951</td>\n",
              "      <td>12.040410</td>\n",
              "      <td>42.0</td>\n",
              "      <td>83.0</td>\n",
              "      <td>87.0</td>\n",
              "      <td>91.0</td>\n",
              "      <td>99.0</td>\n",
              "    </tr>\n",
              "    <tr>\n",
              "      <th>EMIRatio</th>\n",
              "      <td>781.0</td>\n",
              "      <td>9.495006</td>\n",
              "      <td>2.786867</td>\n",
              "      <td>3.0</td>\n",
              "      <td>7.4</td>\n",
              "      <td>9.5</td>\n",
              "      <td>11.4</td>\n",
              "      <td>15.0</td>\n",
              "    </tr>\n",
              "    <tr>\n",
              "      <th>Ownhouse</th>\n",
              "      <td>781.0</td>\n",
              "      <td>0.768246</td>\n",
              "      <td>0.422223</td>\n",
              "      <td>0.0</td>\n",
              "      <td>1.0</td>\n",
              "      <td>1.0</td>\n",
              "      <td>1.0</td>\n",
              "      <td>1.0</td>\n",
              "    </tr>\n",
              "    <tr>\n",
              "      <th>Dependents</th>\n",
              "      <td>781.0</td>\n",
              "      <td>2.081946</td>\n",
              "      <td>1.068641</td>\n",
              "      <td>0.0</td>\n",
              "      <td>2.0</td>\n",
              "      <td>2.0</td>\n",
              "      <td>3.0</td>\n",
              "      <td>4.0</td>\n",
              "    </tr>\n",
              "  </tbody>\n",
              "</table>\n",
              "</div>"
            ],
            "text/plain": [
              "             count       mean        std   min   25%   50%   75%   max\n",
              "LoanOffered  781.0   0.756722   0.429336   0.0   1.0   1.0   1.0   1.0\n",
              "WorkExp      781.0  12.377721   3.809161   0.0  11.0  13.0  15.0  19.0\n",
              "CreditScore  781.0  83.597951  12.040410  42.0  83.0  87.0  91.0  99.0\n",
              "EMIRatio     781.0   9.495006   2.786867   3.0   7.4   9.5  11.4  15.0\n",
              "Ownhouse     781.0   0.768246   0.422223   0.0   1.0   1.0   1.0   1.0\n",
              "Dependents   781.0   2.081946   1.068641   0.0   2.0   2.0   3.0   4.0"
            ]
          },
          "execution_count": 101,
          "metadata": {},
          "output_type": "execute_result"
        }
      ],
      "source": [
        "df.describe().T"
      ]
    },
    {
      "cell_type": "code",
      "execution_count": null,
      "metadata": {
        "colab": {
          "base_uri": "https://localhost:8080/",
          "height": 173
        },
        "id": "QaDLVqVzUf9A",
        "outputId": "8bb7e2a7-a267-4959-a879-0eaedb346375"
      },
      "outputs": [
        {
          "data": {
            "text/html": [
              "<div>\n",
              "<style scoped>\n",
              "    .dataframe tbody tr th:only-of-type {\n",
              "        vertical-align: middle;\n",
              "    }\n",
              "\n",
              "    .dataframe tbody tr th {\n",
              "        vertical-align: top;\n",
              "    }\n",
              "\n",
              "    .dataframe thead th {\n",
              "        text-align: right;\n",
              "    }\n",
              "</style>\n",
              "<table border=\"1\" class=\"dataframe\">\n",
              "  <thead>\n",
              "    <tr style=\"text-align: right;\">\n",
              "      <th></th>\n",
              "      <th>count</th>\n",
              "      <th>unique</th>\n",
              "      <th>top</th>\n",
              "      <th>freq</th>\n",
              "    </tr>\n",
              "  </thead>\n",
              "  <tbody>\n",
              "    <tr>\n",
              "      <th>Gender</th>\n",
              "      <td>781</td>\n",
              "      <td>2</td>\n",
              "      <td>Male</td>\n",
              "      <td>548</td>\n",
              "    </tr>\n",
              "    <tr>\n",
              "      <th>Job</th>\n",
              "      <td>781</td>\n",
              "      <td>3</td>\n",
              "      <td>skilled</td>\n",
              "      <td>557</td>\n",
              "    </tr>\n",
              "    <tr>\n",
              "      <th>Status</th>\n",
              "      <td>781</td>\n",
              "      <td>2</td>\n",
              "      <td>No</td>\n",
              "      <td>656</td>\n",
              "    </tr>\n",
              "    <tr>\n",
              "      <th>CreditHistory</th>\n",
              "      <td>781</td>\n",
              "      <td>4</td>\n",
              "      <td>verygood</td>\n",
              "      <td>265</td>\n",
              "    </tr>\n",
              "  </tbody>\n",
              "</table>\n",
              "</div>"
            ],
            "text/plain": [
              "              count unique       top freq\n",
              "Gender          781      2      Male  548\n",
              "Job             781      3   skilled  557\n",
              "Status          781      2        No  656\n",
              "CreditHistory   781      4  verygood  265"
            ]
          },
          "execution_count": 102,
          "metadata": {},
          "output_type": "execute_result"
        }
      ],
      "source": [
        "df[['Gender' , 'Job' , 'Status' , 'CreditHistory']].describe().T"
      ]
    },
    {
      "cell_type": "code",
      "execution_count": null,
      "metadata": {
        "id": "mYAJlxpUUpV0"
      },
      "outputs": [],
      "source": [
        "df = pd.get_dummies(df , columns = ['Gender' , 'Purpose' , 'Job'])"
      ]
    },
    {
      "cell_type": "code",
      "execution_count": null,
      "metadata": {
        "id": "CjuCe6ZoWEPX"
      },
      "outputs": [],
      "source": [
        "df['Status'] = df.Status.map({'Default' : 1 , 'No' : 0})"
      ]
    },
    {
      "cell_type": "code",
      "execution_count": null,
      "metadata": {
        "id": "wnTxiW9Cb9WX"
      },
      "outputs": [],
      "source": [
        "data['Status'] = data.Status.map({'Default' : 1 , 'No' : 0})"
      ]
    },
    {
      "cell_type": "code",
      "execution_count": null,
      "metadata": {
        "colab": {
          "base_uri": "https://localhost:8080/",
          "height": 204
        },
        "id": "9mP5Rri4VKFP",
        "outputId": "8016f7cf-0e6c-4476-f8f5-653b2a5f97f9"
      },
      "outputs": [
        {
          "data": {
            "text/html": [
              "<div>\n",
              "<style scoped>\n",
              "    .dataframe tbody tr th:only-of-type {\n",
              "        vertical-align: middle;\n",
              "    }\n",
              "\n",
              "    .dataframe tbody tr th {\n",
              "        vertical-align: top;\n",
              "    }\n",
              "\n",
              "    .dataframe thead th {\n",
              "        text-align: right;\n",
              "    }\n",
              "</style>\n",
              "<table border=\"1\" class=\"dataframe\">\n",
              "  <thead>\n",
              "    <tr style=\"text-align: right;\">\n",
              "      <th></th>\n",
              "      <th>Gender</th>\n",
              "      <th>LoanOffered</th>\n",
              "      <th>Job</th>\n",
              "      <th>WorkExp</th>\n",
              "      <th>CreditScore</th>\n",
              "      <th>EMIRatio</th>\n",
              "      <th>Status</th>\n",
              "      <th>CreditHistory</th>\n",
              "      <th>Ownhouse</th>\n",
              "      <th>Purpose</th>\n",
              "      <th>Dependents</th>\n",
              "    </tr>\n",
              "  </thead>\n",
              "  <tbody>\n",
              "    <tr>\n",
              "      <th>0</th>\n",
              "      <td>Male</td>\n",
              "      <td>0</td>\n",
              "      <td>unskilled</td>\n",
              "      <td>14</td>\n",
              "      <td>86</td>\n",
              "      <td>3.0</td>\n",
              "      <td>0</td>\n",
              "      <td>poor</td>\n",
              "      <td>1</td>\n",
              "      <td>personal</td>\n",
              "      <td>2</td>\n",
              "    </tr>\n",
              "    <tr>\n",
              "      <th>1</th>\n",
              "      <td>Female</td>\n",
              "      <td>1</td>\n",
              "      <td>skilled</td>\n",
              "      <td>15</td>\n",
              "      <td>94</td>\n",
              "      <td>3.0</td>\n",
              "      <td>0</td>\n",
              "      <td>poor</td>\n",
              "      <td>1</td>\n",
              "      <td>personal</td>\n",
              "      <td>3</td>\n",
              "    </tr>\n",
              "    <tr>\n",
              "      <th>2</th>\n",
              "      <td>Male</td>\n",
              "      <td>0</td>\n",
              "      <td>unskilled</td>\n",
              "      <td>16</td>\n",
              "      <td>86</td>\n",
              "      <td>3.0</td>\n",
              "      <td>0</td>\n",
              "      <td>poor</td>\n",
              "      <td>1</td>\n",
              "      <td>personal</td>\n",
              "      <td>2</td>\n",
              "    </tr>\n",
              "    <tr>\n",
              "      <th>3</th>\n",
              "      <td>Female</td>\n",
              "      <td>1</td>\n",
              "      <td>skilled</td>\n",
              "      <td>13</td>\n",
              "      <td>94</td>\n",
              "      <td>3.0</td>\n",
              "      <td>0</td>\n",
              "      <td>poor</td>\n",
              "      <td>1</td>\n",
              "      <td>personal</td>\n",
              "      <td>3</td>\n",
              "    </tr>\n",
              "    <tr>\n",
              "      <th>4</th>\n",
              "      <td>Male</td>\n",
              "      <td>1</td>\n",
              "      <td>skilled</td>\n",
              "      <td>12</td>\n",
              "      <td>85</td>\n",
              "      <td>3.3</td>\n",
              "      <td>0</td>\n",
              "      <td>poor</td>\n",
              "      <td>1</td>\n",
              "      <td>personal</td>\n",
              "      <td>2</td>\n",
              "    </tr>\n",
              "  </tbody>\n",
              "</table>\n",
              "</div>"
            ],
            "text/plain": [
              "   Gender  LoanOffered        Job  ...  Ownhouse   Purpose  Dependents\n",
              "0    Male            0  unskilled  ...         1  personal           2\n",
              "1  Female            1    skilled  ...         1  personal           3\n",
              "2    Male            0  unskilled  ...         1  personal           2\n",
              "3  Female            1    skilled  ...         1  personal           3\n",
              "4    Male            1    skilled  ...         1  personal           2\n",
              "\n",
              "[5 rows x 11 columns]"
            ]
          },
          "execution_count": 106,
          "metadata": {},
          "output_type": "execute_result"
        }
      ],
      "source": [
        "data.head()"
      ]
    },
    {
      "cell_type": "code",
      "execution_count": null,
      "metadata": {
        "id": "u4ndLMl1VLmQ"
      },
      "outputs": [],
      "source": [
        "df['CreditHistory'] = df.CreditHistory.map({'verygood' : 4 , 'good' : 3 , 'poor' : 2 , 'critical' : 1})"
      ]
    },
    {
      "cell_type": "code",
      "execution_count": null,
      "metadata": {
        "colab": {
          "base_uri": "https://localhost:8080/",
          "height": 224
        },
        "id": "wQaI4ssmVwEI",
        "outputId": "306ce04a-3c46-4574-c192-f5b536ce7aa1"
      },
      "outputs": [
        {
          "data": {
            "text/html": [
              "<div>\n",
              "<style scoped>\n",
              "    .dataframe tbody tr th:only-of-type {\n",
              "        vertical-align: middle;\n",
              "    }\n",
              "\n",
              "    .dataframe tbody tr th {\n",
              "        vertical-align: top;\n",
              "    }\n",
              "\n",
              "    .dataframe thead th {\n",
              "        text-align: right;\n",
              "    }\n",
              "</style>\n",
              "<table border=\"1\" class=\"dataframe\">\n",
              "  <thead>\n",
              "    <tr style=\"text-align: right;\">\n",
              "      <th></th>\n",
              "      <th>LoanOffered</th>\n",
              "      <th>WorkExp</th>\n",
              "      <th>CreditScore</th>\n",
              "      <th>EMIRatio</th>\n",
              "      <th>Status</th>\n",
              "      <th>CreditHistory</th>\n",
              "      <th>Ownhouse</th>\n",
              "      <th>Dependents</th>\n",
              "      <th>Gender_Female</th>\n",
              "      <th>Gender_Male</th>\n",
              "      <th>Purpose_car</th>\n",
              "      <th>Purpose_consumerdurable</th>\n",
              "      <th>Purpose_education</th>\n",
              "      <th>Purpose_personal</th>\n",
              "      <th>Job_Management</th>\n",
              "      <th>Job_skilled</th>\n",
              "      <th>Job_unskilled</th>\n",
              "    </tr>\n",
              "  </thead>\n",
              "  <tbody>\n",
              "    <tr>\n",
              "      <th>0</th>\n",
              "      <td>0</td>\n",
              "      <td>14</td>\n",
              "      <td>86</td>\n",
              "      <td>3.0</td>\n",
              "      <td>0</td>\n",
              "      <td>2</td>\n",
              "      <td>1</td>\n",
              "      <td>2</td>\n",
              "      <td>0</td>\n",
              "      <td>1</td>\n",
              "      <td>0</td>\n",
              "      <td>0</td>\n",
              "      <td>0</td>\n",
              "      <td>1</td>\n",
              "      <td>0</td>\n",
              "      <td>0</td>\n",
              "      <td>1</td>\n",
              "    </tr>\n",
              "    <tr>\n",
              "      <th>1</th>\n",
              "      <td>1</td>\n",
              "      <td>15</td>\n",
              "      <td>94</td>\n",
              "      <td>3.0</td>\n",
              "      <td>0</td>\n",
              "      <td>2</td>\n",
              "      <td>1</td>\n",
              "      <td>3</td>\n",
              "      <td>1</td>\n",
              "      <td>0</td>\n",
              "      <td>0</td>\n",
              "      <td>0</td>\n",
              "      <td>0</td>\n",
              "      <td>1</td>\n",
              "      <td>0</td>\n",
              "      <td>1</td>\n",
              "      <td>0</td>\n",
              "    </tr>\n",
              "    <tr>\n",
              "      <th>2</th>\n",
              "      <td>0</td>\n",
              "      <td>16</td>\n",
              "      <td>86</td>\n",
              "      <td>3.0</td>\n",
              "      <td>0</td>\n",
              "      <td>2</td>\n",
              "      <td>1</td>\n",
              "      <td>2</td>\n",
              "      <td>0</td>\n",
              "      <td>1</td>\n",
              "      <td>0</td>\n",
              "      <td>0</td>\n",
              "      <td>0</td>\n",
              "      <td>1</td>\n",
              "      <td>0</td>\n",
              "      <td>0</td>\n",
              "      <td>1</td>\n",
              "    </tr>\n",
              "    <tr>\n",
              "      <th>3</th>\n",
              "      <td>1</td>\n",
              "      <td>13</td>\n",
              "      <td>94</td>\n",
              "      <td>3.0</td>\n",
              "      <td>0</td>\n",
              "      <td>2</td>\n",
              "      <td>1</td>\n",
              "      <td>3</td>\n",
              "      <td>1</td>\n",
              "      <td>0</td>\n",
              "      <td>0</td>\n",
              "      <td>0</td>\n",
              "      <td>0</td>\n",
              "      <td>1</td>\n",
              "      <td>0</td>\n",
              "      <td>1</td>\n",
              "      <td>0</td>\n",
              "    </tr>\n",
              "    <tr>\n",
              "      <th>4</th>\n",
              "      <td>1</td>\n",
              "      <td>12</td>\n",
              "      <td>85</td>\n",
              "      <td>3.3</td>\n",
              "      <td>0</td>\n",
              "      <td>2</td>\n",
              "      <td>1</td>\n",
              "      <td>2</td>\n",
              "      <td>0</td>\n",
              "      <td>1</td>\n",
              "      <td>0</td>\n",
              "      <td>0</td>\n",
              "      <td>0</td>\n",
              "      <td>1</td>\n",
              "      <td>0</td>\n",
              "      <td>1</td>\n",
              "      <td>0</td>\n",
              "    </tr>\n",
              "  </tbody>\n",
              "</table>\n",
              "</div>"
            ],
            "text/plain": [
              "   LoanOffered  WorkExp  ...  Job_skilled  Job_unskilled\n",
              "0            0       14  ...            0              1\n",
              "1            1       15  ...            1              0\n",
              "2            0       16  ...            0              1\n",
              "3            1       13  ...            1              0\n",
              "4            1       12  ...            1              0\n",
              "\n",
              "[5 rows x 17 columns]"
            ]
          },
          "execution_count": 108,
          "metadata": {},
          "output_type": "execute_result"
        }
      ],
      "source": [
        "df.head()"
      ]
    },
    {
      "cell_type": "code",
      "execution_count": null,
      "metadata": {
        "colab": {
          "base_uri": "https://localhost:8080/",
          "height": 204
        },
        "id": "g7usfq42XSsE",
        "outputId": "9e6c7170-240f-4e2f-f212-3508a03650ec"
      },
      "outputs": [
        {
          "data": {
            "text/html": [
              "<div>\n",
              "<style scoped>\n",
              "    .dataframe tbody tr th:only-of-type {\n",
              "        vertical-align: middle;\n",
              "    }\n",
              "\n",
              "    .dataframe tbody tr th {\n",
              "        vertical-align: top;\n",
              "    }\n",
              "\n",
              "    .dataframe thead th {\n",
              "        text-align: right;\n",
              "    }\n",
              "</style>\n",
              "<table border=\"1\" class=\"dataframe\">\n",
              "  <thead>\n",
              "    <tr style=\"text-align: right;\">\n",
              "      <th></th>\n",
              "      <th>Gender</th>\n",
              "      <th>LoanOffered</th>\n",
              "      <th>Job</th>\n",
              "      <th>WorkExp</th>\n",
              "      <th>CreditScore</th>\n",
              "      <th>EMIRatio</th>\n",
              "      <th>Status</th>\n",
              "      <th>CreditHistory</th>\n",
              "      <th>Ownhouse</th>\n",
              "      <th>Purpose</th>\n",
              "      <th>Dependents</th>\n",
              "    </tr>\n",
              "  </thead>\n",
              "  <tbody>\n",
              "    <tr>\n",
              "      <th>0</th>\n",
              "      <td>Male</td>\n",
              "      <td>0</td>\n",
              "      <td>unskilled</td>\n",
              "      <td>14</td>\n",
              "      <td>86</td>\n",
              "      <td>3.0</td>\n",
              "      <td>0</td>\n",
              "      <td>poor</td>\n",
              "      <td>1</td>\n",
              "      <td>personal</td>\n",
              "      <td>2</td>\n",
              "    </tr>\n",
              "    <tr>\n",
              "      <th>1</th>\n",
              "      <td>Female</td>\n",
              "      <td>1</td>\n",
              "      <td>skilled</td>\n",
              "      <td>15</td>\n",
              "      <td>94</td>\n",
              "      <td>3.0</td>\n",
              "      <td>0</td>\n",
              "      <td>poor</td>\n",
              "      <td>1</td>\n",
              "      <td>personal</td>\n",
              "      <td>3</td>\n",
              "    </tr>\n",
              "    <tr>\n",
              "      <th>2</th>\n",
              "      <td>Male</td>\n",
              "      <td>0</td>\n",
              "      <td>unskilled</td>\n",
              "      <td>16</td>\n",
              "      <td>86</td>\n",
              "      <td>3.0</td>\n",
              "      <td>0</td>\n",
              "      <td>poor</td>\n",
              "      <td>1</td>\n",
              "      <td>personal</td>\n",
              "      <td>2</td>\n",
              "    </tr>\n",
              "    <tr>\n",
              "      <th>3</th>\n",
              "      <td>Female</td>\n",
              "      <td>1</td>\n",
              "      <td>skilled</td>\n",
              "      <td>13</td>\n",
              "      <td>94</td>\n",
              "      <td>3.0</td>\n",
              "      <td>0</td>\n",
              "      <td>poor</td>\n",
              "      <td>1</td>\n",
              "      <td>personal</td>\n",
              "      <td>3</td>\n",
              "    </tr>\n",
              "    <tr>\n",
              "      <th>4</th>\n",
              "      <td>Male</td>\n",
              "      <td>1</td>\n",
              "      <td>skilled</td>\n",
              "      <td>12</td>\n",
              "      <td>85</td>\n",
              "      <td>3.3</td>\n",
              "      <td>0</td>\n",
              "      <td>poor</td>\n",
              "      <td>1</td>\n",
              "      <td>personal</td>\n",
              "      <td>2</td>\n",
              "    </tr>\n",
              "  </tbody>\n",
              "</table>\n",
              "</div>"
            ],
            "text/plain": [
              "   Gender  LoanOffered        Job  ...  Ownhouse   Purpose  Dependents\n",
              "0    Male            0  unskilled  ...         1  personal           2\n",
              "1  Female            1    skilled  ...         1  personal           3\n",
              "2    Male            0  unskilled  ...         1  personal           2\n",
              "3  Female            1    skilled  ...         1  personal           3\n",
              "4    Male            1    skilled  ...         1  personal           2\n",
              "\n",
              "[5 rows x 11 columns]"
            ]
          },
          "execution_count": 109,
          "metadata": {},
          "output_type": "execute_result"
        }
      ],
      "source": [
        "data.head()"
      ]
    },
    {
      "cell_type": "code",
      "execution_count": null,
      "metadata": {
        "colab": {
          "base_uri": "https://localhost:8080/",
          "height": 293
        },
        "id": "CXSm6KiMVx1t",
        "outputId": "9aba9455-6a43-452e-eae4-dd952fb83bff"
      },
      "outputs": [
        {
          "data": {
            "text/plain": [
              "<matplotlib.axes._subplots.AxesSubplot at 0x7f2c97548490>"
            ]
          },
          "execution_count": 110,
          "metadata": {},
          "output_type": "execute_result"
        },
        {
          "data": {
            "image/png": "[encoded data removed]",
            "text/plain": [
              "<Figure size 432x288 with 1 Axes>"
            ]
          },
          "metadata": {
            "needs_background": "light"
          },
          "output_type": "display_data"
        }
      ],
      "source": [
        "by_gender=pd.crosstab(data['Status'],data['Gender'])\n",
        "by_gender.div(by_gender.sum(1).astype(float),axis=0).plot.bar(stacked='True')"
      ]
    },
    {
      "cell_type": "code",
      "execution_count": null,
      "metadata": {
        "colab": {
          "base_uri": "https://localhost:8080/",
          "height": 322
        },
        "id": "A6M4zIIQWrDR",
        "outputId": "5e5afa81-f9d3-41e1-e851-ac3f5eef13b1"
      },
      "outputs": [
        {
          "data": {
            "text/plain": [
              "<matplotlib.axes._subplots.AxesSubplot at 0x7f2c972293d0>"
            ]
          },
          "execution_count": 111,
          "metadata": {},
          "output_type": "execute_result"
        },
        {
          "data": {
            "image/png": "[encoded data removed]",
            "text/plain": [
              "<Figure size 432x288 with 1 Axes>"
            ]
          },
          "metadata": {
            "needs_background": "light"
          },
          "output_type": "display_data"
        }
      ],
      "source": [
        "by_gender=pd.crosstab(data['Gender'],data['Status'])\n",
        "by_gender.div(by_gender.sum(1).astype(float),axis=0).plot.bar(stacked='True')"
      ]
    },
    {
      "cell_type": "code",
      "execution_count": null,
      "metadata": {
        "colab": {
          "base_uri": "https://localhost:8080/",
          "height": 551
        },
        "id": "b4-wAJKYW_6v",
        "outputId": "bc504740-a788-4109-d958-51710d008bcf"
      },
      "outputs": [
        {
          "data": {
            "image/png": "[encoded data removed]",
            "text/plain": [
              "<Figure size 1152x648 with 1 Axes>"
            ]
          },
          "metadata": {
            "needs_background": "light"
          },
          "output_type": "display_data"
        }
      ],
      "source": [
        "plt.figure(figsize=(16,9))\n",
        "ax = sns.countplot(data=df, x = 'CreditHistory')\n",
        "for p in ax.patches:\n",
        "    ax.annotate('{:}'.format(p.get_height()), (p.get_x()+0.15, p.get_height()+1))"
      ]
    },
    {
      "cell_type": "code",
      "execution_count": null,
      "metadata": {
        "colab": {
          "base_uri": "https://localhost:8080/",
          "height": 312
        },
        "id": "OTnpwfOeXZ50",
        "outputId": "2a367dd6-c63d-4387-8e86-a68c7a23880d"
      },
      "outputs": [
        {
          "data": {
            "text/plain": [
              "Text(0.5, 1.0, 'Histogram')"
            ]
          },
          "execution_count": 113,
          "metadata": {},
          "output_type": "execute_result"
        },
        {
          "data": {
            "image/png": "[encoded data removed]",
            "text/plain": [
              "<Figure size 432x288 with 1 Axes>"
            ]
          },
          "metadata": {
            "needs_background": "light"
          },
          "output_type": "display_data"
        }
      ],
      "source": [
        "plt.hist(df.CreditScore, bins = 15)\n",
        "plt.xlabel('CreditScore')\n",
        "plt.ylabel('Frequency')\n",
        "plt.title('Histogram')"
      ]
    },
    {
      "cell_type": "code",
      "execution_count": null,
      "metadata": {
        "colab": {
          "base_uri": "https://localhost:8080/",
          "height": 296
        },
        "id": "nQ9HiB1SXyG_",
        "outputId": "d2d902a0-8405-485e-fd70-ba0e7a3f72b5"
      },
      "outputs": [
        {
          "data": {
            "text/plain": [
              "<matplotlib.axes._subplots.AxesSubplot at 0x7f2c97898f90>"
            ]
          },
          "execution_count": 114,
          "metadata": {},
          "output_type": "execute_result"
        },
        {
          "data": {
            "image/png": "[encoded data removed]",
            "text/plain": [
              "<Figure size 432x288 with 1 Axes>"
            ]
          },
          "metadata": {
            "needs_background": "light"
          },
          "output_type": "display_data"
        }
      ],
      "source": [
        "sns.boxplot(x='CreditScore',y='Job',data=data,hue='Status')"
      ]
    },
    {
      "cell_type": "code",
      "execution_count": null,
      "metadata": {
        "colab": {
          "base_uri": "https://localhost:8080/",
          "height": 460
        },
        "id": "R2kl2HJfYCGJ",
        "outputId": "005baf00-5858-4dae-9ca3-9c1cef4ffceb"
      },
      "outputs": [
        {
          "data": {
            "image/png": "[encoded data removed]",
            "text/plain": [
              "<Figure size 576x432 with 1 Axes>"
            ]
          },
          "metadata": {
            "needs_background": "light"
          },
          "output_type": "display_data"
        }
      ],
      "source": [
        "Occ_abs = data.groupby('Job')[['Status']].sum()\n",
        "b = Occ_abs.plot(kind = 'bar', figsize = (8,6), legend = False)\n",
        "for i, v in enumerate(Occ_abs.values):\n",
        "    b.text(i-0.30,v+1,str(np.int(np.round(v))), color = 'red')\n",
        "b.set_ylabel('LoanOffered')\n",
        "b.set_title('Defaulters wrt job type')\n",
        "plt.show()"
      ]
    },
    {
      "cell_type": "code",
      "execution_count": null,
      "metadata": {
        "colab": {
          "base_uri": "https://localhost:8080/",
          "height": 1000
        },
        "id": "fZde_IYvYYF9",
        "outputId": "a00c82bf-feda-4d7e-dd0a-1d45f0996deb"
      },
      "outputs": [
        {
          "data": {
            "text/plain": [
              "<matplotlib.axes._subplots.AxesSubplot at 0x7f2c9712d890>"
            ]
          },
          "execution_count": 116,
          "metadata": {},
          "output_type": "execute_result"
        },
        {
          "data": {
            "image/png": "[encoded data removed]",
            "text/plain": [
              "<Figure size 1152x1152 with 2 Axes>"
            ]
          },
          "metadata": {
            "needs_background": "light"
          },
          "output_type": "display_data"
        }
      ],
      "source": [
        "plt.figure(figsize=(16,16))\n",
        "sns.heatmap(df.corr(),annot=True)"
      ]
    },
    {
      "cell_type": "markdown",
      "metadata": {
        "id": "yC5LaLDheQ1R"
      },
      "source": [
        "## Multi Layer Perceptron (MLP) Model, a feed forward neural network"
      ]
    },
    {
      "cell_type": "markdown",
      "metadata": {
        "id": "EWrVE4wmZJTi"
      },
      "source": [
        "### Model 1"
      ]
    },
    {
      "cell_type": "code",
      "execution_count": null,
      "metadata": {
        "id": "jWJTZNKNYeac"
      },
      "outputs": [],
      "source": [
        "X = df.drop(\"Status\" , axis=1)\n",
        "\n",
        "Y = df.pop(\"Status\")"
      ]
    },
    {
      "cell_type": "code",
      "execution_count": null,
      "metadata": {
        "id": "X51ZF7B_Zex5"
      },
      "outputs": [],
      "source": [
        "from sklearn.model_selection import train_test_split\n",
        "\n",
        "X_train, X_test, Y_train, Y_test = train_test_split(X, Y, test_size=.30, random_state=123)"
      ]
    },
    {
      "cell_type": "code",
      "execution_count": null,
      "metadata": {
        "id": "uK-2TYk2Z1bP"
      },
      "outputs": [],
      "source": [
        "from sklearn.preprocessing import StandardScaler\n",
        "ss = StandardScaler()"
      ]
    },
    {
      "cell_type": "code",
      "execution_count": null,
      "metadata": {
        "id": "n6mbSOhsdDyv"
      },
      "outputs": [],
      "source": [
        "#ss.fit_transform(X_train)\n",
        "#transforming it from array to dataframe\n",
        "\n",
        "X_train_scaled = pd.DataFrame(ss.fit_transform(X_train) , columns = X_train.columns)\n",
        "\n",
        "X_test_scaled = pd.DataFrame(ss.transform(X_test) , columns = X_test.columns) "
      ]
    },
    {
      "cell_type": "code",
      "execution_count": null,
      "metadata": {
        "id": "kmZlzEsRdFEP"
      },
      "outputs": [],
      "source": [
        "from sklearn.neural_network import MLPClassifier"
      ]
    },
    {
      "cell_type": "code",
      "execution_count": null,
      "metadata": {
        "id": "oVXo9AiQdQr1"
      },
      "outputs": [],
      "source": [
        "nncl = MLPClassifier(max_iter=2000)"
      ]
    },
    {
      "cell_type": "code",
      "execution_count": null,
      "metadata": {
        "colab": {
          "base_uri": "https://localhost:8080/"
        },
        "id": "Y6JWcLSMda0M",
        "outputId": "c653d632-0184-4855-9ffc-ea2fe4de2c00"
      },
      "outputs": [
        {
          "data": {
            "text/plain": [
              "MLPClassifier(activation='relu', alpha=0.0001, batch_size='auto', beta_1=0.9,\n",
              "              beta_2=0.999, early_stopping=False, epsilon=1e-08,\n",
              "              hidden_layer_sizes=(100,), learning_rate='constant',\n",
              "              learning_rate_init=0.001, max_fun=15000, max_iter=2000,\n",
              "              momentum=0.9, n_iter_no_change=10, nesterovs_momentum=True,\n",
              "              power_t=0.5, random_state=None, shuffle=True, solver='adam',\n",
              "              tol=0.0001, validation_fraction=0.1, verbose=False,\n",
              "              warm_start=False)"
            ]
          },
          "execution_count": 125,
          "metadata": {},
          "output_type": "execute_result"
        }
      ],
      "source": [
        "nncl.fit(X_train_scaled,Y_train)"
      ]
    },
    {
      "cell_type": "code",
      "execution_count": null,
      "metadata": {
        "colab": {
          "base_uri": "https://localhost:8080/"
        },
        "id": "dEWEHX5WdXMm",
        "outputId": "6ecc9d27-04eb-4e33-c6ac-45843551fe44"
      },
      "outputs": [
        {
          "data": {
            "text/plain": [
              "0.9981684981684982"
            ]
          },
          "execution_count": 126,
          "metadata": {},
          "output_type": "execute_result"
        }
      ],
      "source": [
        "nncl.score(X_train_scaled,Y_train)"
      ]
    },
    {
      "cell_type": "code",
      "execution_count": null,
      "metadata": {
        "colab": {
          "base_uri": "https://localhost:8080/"
        },
        "id": "8wR0LpUmdYDF",
        "outputId": "0ad3e42f-66df-418d-ac51-1f6e385b9d89"
      },
      "outputs": [
        {
          "data": {
            "text/plain": [
              "0.9787234042553191"
            ]
          },
          "execution_count": 127,
          "metadata": {},
          "output_type": "execute_result"
        }
      ],
      "source": [
        "nncl.score(X_test_scaled,Y_test)"
      ]
    },
    {
      "cell_type": "code",
      "execution_count": null,
      "metadata": {
        "colab": {
          "base_uri": "https://localhost:8080/",
          "height": 282
        },
        "id": "18h5Bj3_ddlS",
        "outputId": "5ae730d7-4148-4a43-de60-bb9c841b127b"
      },
      "outputs": [
        {
          "data": {
            "text/plain": [
              "[<matplotlib.lines.Line2D at 0x7f2c96c4ae90>]"
            ]
          },
          "execution_count": 128,
          "metadata": {},
          "output_type": "execute_result"
        },
        {
          "data": {
            "image/png": "[encoded data removed]",
            "text/plain": [
              "<Figure size 432x288 with 1 Axes>"
            ]
          },
          "metadata": {
            "needs_background": "light"
          },
          "output_type": "display_data"
        }
      ],
      "source": [
        "plt.plot(  nncl.loss_curve_)"
      ]
    },
    {
      "cell_type": "code",
      "execution_count": null,
      "metadata": {
        "id": "2W9LANmTdgES"
      },
      "outputs": [],
      "source": [
        "from sklearn.metrics import classification_report"
      ]
    },
    {
      "cell_type": "code",
      "execution_count": null,
      "metadata": {
        "colab": {
          "base_uri": "https://localhost:8080/"
        },
        "id": "FYnPOWHFeOf0",
        "outputId": "f5aeaed6-721f-46ab-9a89-7a53d4348ff5"
      },
      "outputs": [
        {
          "name": "stdout",
          "output_type": "stream",
          "text": [
            "              precision    recall  f1-score   support\n",
            "\n",
            "           0       1.00      1.00      1.00       459\n",
            "           1       0.99      1.00      0.99        87\n",
            "\n",
            "    accuracy                           1.00       546\n",
            "   macro avg       0.99      1.00      1.00       546\n",
            "weighted avg       1.00      1.00      1.00       546\n",
            "\n",
            "              precision    recall  f1-score   support\n",
            "\n",
            "           0       0.98      0.99      0.99       197\n",
            "           1       0.95      0.92      0.93        38\n",
            "\n",
            "    accuracy                           0.98       235\n",
            "   macro avg       0.97      0.96      0.96       235\n",
            "weighted avg       0.98      0.98      0.98       235\n",
            "\n"
          ]
        }
      ],
      "source": [
        "y_pred_train = nncl.predict(X_train_scaled)\n",
        "y_pred_test = nncl.predict(X_test_scaled)\n",
        "\n",
        "print(classification_report(Y_train,y_pred_train))\n",
        "print(classification_report(Y_test,y_pred_test))\n",
        "\n"
      ]
    },
    {
      "cell_type": "markdown",
      "metadata": {
        "id": "GQ9--ztMfCX_"
      },
      "source": [
        "### Model 2"
      ]
    },
    {
      "cell_type": "code",
      "execution_count": null,
      "metadata": {
        "colab": {
          "base_uri": "https://localhost:8080/"
        },
        "id": "oRbHiqGbes_3",
        "outputId": "c6b8a32a-b3b7-4e73-f4ea-5816ff400a2c"
      },
      "outputs": [
        {
          "data": {
            "text/plain": [
              "MLPClassifier(activation='logistic', alpha=0.0001, batch_size='auto',\n",
              "              beta_1=0.9, beta_2=0.999, early_stopping=False, epsilon=1e-08,\n",
              "              hidden_layer_sizes=100, learning_rate='adaptive',\n",
              "              learning_rate_init=0.001, max_fun=15000, max_iter=2000,\n",
              "              momentum=0.9, n_iter_no_change=10, nesterovs_momentum=True,\n",
              "              power_t=0.5, random_state=101, shuffle=True, solver='sgd',\n",
              "              tol=0.0001, validation_fraction=0.1, verbose=False,\n",
              "              warm_start=False)"
            ]
          },
          "execution_count": 132,
          "metadata": {},
          "output_type": "execute_result"
        }
      ],
      "source": [
        "nncl = MLPClassifier(hidden_layer_sizes= 100,\n",
        "                     max_iter = 2000,\n",
        "                     tol = 0.0001,\n",
        "                     random_state = 101,\n",
        "                     activation = 'logistic',\n",
        "                     solver =  'sgd',\n",
        "                     learning_rate = 'adaptive')\n",
        "nncl.fit(X_train_scaled,Y_train)"
      ]
    },
    {
      "cell_type": "code",
      "execution_count": null,
      "metadata": {
        "colab": {
          "base_uri": "https://localhost:8080/"
        },
        "id": "7qQbr3uQe027",
        "outputId": "1f20605c-4812-42ab-8012-6d15fe99c927"
      },
      "outputs": [
        {
          "data": {
            "text/plain": [
              "0.9542124542124543"
            ]
          },
          "execution_count": 133,
          "metadata": {},
          "output_type": "execute_result"
        }
      ],
      "source": [
        "nncl.score(X_train_scaled,Y_train)"
      ]
    },
    {
      "cell_type": "code",
      "execution_count": null,
      "metadata": {
        "colab": {
          "base_uri": "https://localhost:8080/"
        },
        "id": "itZhme3Ie7vc",
        "outputId": "6554f736-af8d-43c7-d77d-b89f9e995bf9"
      },
      "outputs": [
        {
          "data": {
            "text/plain": [
              "0.9574468085106383"
            ]
          },
          "execution_count": 134,
          "metadata": {},
          "output_type": "execute_result"
        }
      ],
      "source": [
        "nncl.score(X_test_scaled,Y_test)"
      ]
    },
    {
      "cell_type": "code",
      "execution_count": null,
      "metadata": {
        "colab": {
          "base_uri": "https://localhost:8080/"
        },
        "id": "_om7LZG6fEzS",
        "outputId": "aa4acde5-c762-44a0-9b3d-c9a5d4b95a0a"
      },
      "outputs": [
        {
          "name": "stdout",
          "output_type": "stream",
          "text": [
            "              precision    recall  f1-score   support\n",
            "\n",
            "           0       0.95      1.00      0.97       459\n",
            "           1       0.97      0.74      0.84        87\n",
            "\n",
            "    accuracy                           0.95       546\n",
            "   macro avg       0.96      0.87      0.90       546\n",
            "weighted avg       0.95      0.95      0.95       546\n",
            "\n",
            "              precision    recall  f1-score   support\n",
            "\n",
            "           0       0.95      1.00      0.98       197\n",
            "           1       1.00      0.74      0.85        38\n",
            "\n",
            "    accuracy                           0.96       235\n",
            "   macro avg       0.98      0.87      0.91       235\n",
            "weighted avg       0.96      0.96      0.95       235\n",
            "\n"
          ]
        }
      ],
      "source": [
        "y_pred_train = nncl.predict(X_train_scaled)\n",
        "y_pred_test = nncl.predict(X_test_scaled)\n",
        "\n",
        "print(classification_report(Y_train,y_pred_train))\n",
        "print(classification_report(Y_test,y_pred_test))"
      ]
    },
    {
      "cell_type": "markdown",
      "metadata": {
        "id": "ePGRSuxff10X"
      },
      "source": [
        "### Gridsearch"
      ]
    },
    {
      "cell_type": "code",
      "execution_count": null,
      "metadata": {
        "id": "3P5ua6Jzf3AV"
      },
      "outputs": [],
      "source": [
        "from sklearn.model_selection import GridSearchCV"
      ]
    },
    {
      "cell_type": "code",
      "execution_count": null,
      "metadata": {
        "id": "AyTPfRMXf3S1"
      },
      "outputs": [],
      "source": [
        "param_grid = {\n",
        "    'hidden_layer_sizes': [10,100,1000],\n",
        "    'activation': ['logistic', 'tanh', 'relu'],\n",
        "    'learning_rate': ['adaptive','constant'],\n",
        "    'tol': [0.01,0.001,0.0001]\n",
        "}"
      ]
    },
    {
      "cell_type": "code",
      "execution_count": null,
      "metadata": {
        "id": "mfKgYDJif6JR"
      },
      "outputs": [],
      "source": [
        "nncl = MLPClassifier(random_state=1,max_iter=5000,solver='sgd')"
      ]
    },
    {
      "cell_type": "code",
      "execution_count": null,
      "metadata": {
        "id": "CBW6sTonf-Rc"
      },
      "outputs": [],
      "source": [
        "grid_search = GridSearchCV(estimator = nncl, param_grid = param_grid, cv = 3,n_jobs=-1)"
      ]
    },
    {
      "cell_type": "code",
      "execution_count": null,
      "metadata": {
        "colab": {
          "base_uri": "https://localhost:8080/"
        },
        "id": "q22_zBjOgAwk",
        "outputId": "3be67c80-1d0e-4318-b3f8-04da9567b448"
      },
      "outputs": [
        {
          "data": {
            "text/plain": [
              "GridSearchCV(cv=3, error_score=nan,\n",
              "             estimator=MLPClassifier(activation='relu', alpha=0.0001,\n",
              "                                     batch_size='auto', beta_1=0.9,\n",
              "                                     beta_2=0.999, early_stopping=False,\n",
              "                                     epsilon=1e-08, hidden_layer_sizes=(100,),\n",
              "                                     learning_rate='constant',\n",
              "                                     learning_rate_init=0.001, max_fun=15000,\n",
              "                                     max_iter=5000, momentum=0.9,\n",
              "                                     n_iter_no_change=10,\n",
              "                                     nesterovs_momentum=True, power_t=0.5,\n",
              "                                     random_stat...=True, solver='sgd',\n",
              "                                     tol=0.0001, validation_fraction=0.1,\n",
              "                                     verbose=False, warm_start=False),\n",
              "             iid='deprecated', n_jobs=-1,\n",
              "             param_grid={'activation': ['logistic', 'tanh', 'relu'],\n",
              "                         'hidden_layer_sizes': [10, 100, 1000],\n",
              "                         'learning_rate': ['adaptive', 'constant'],\n",
              "                         'tol': [0.01, 0.001, 0.0001]},\n",
              "             pre_dispatch='2*n_jobs', refit=True, return_train_score=False,\n",
              "             scoring=None, verbose=0)"
            ]
          },
          "execution_count": 140,
          "metadata": {},
          "output_type": "execute_result"
        }
      ],
      "source": [
        "grid_search.fit(X_train_scaled, Y_train)"
      ]
    },
    {
      "cell_type": "code",
      "execution_count": null,
      "metadata": {
        "colab": {
          "base_uri": "https://localhost:8080/"
        },
        "id": "35EDeI5wgDDx",
        "outputId": "7e60b7eb-d8a0-464f-ec2d-492109360f17"
      },
      "outputs": [
        {
          "data": {
            "text/plain": [
              "{'activation': 'tanh',\n",
              " 'hidden_layer_sizes': 100,\n",
              " 'learning_rate': 'adaptive',\n",
              " 'tol': 0.0001}"
            ]
          },
          "execution_count": 141,
          "metadata": {},
          "output_type": "execute_result"
        }
      ],
      "source": [
        "grid_search.best_params_"
      ]
    },
    {
      "cell_type": "code",
      "execution_count": null,
      "metadata": {
        "colab": {
          "base_uri": "https://localhost:8080/"
        },
        "id": "KstOB4sjgMFX",
        "outputId": "19b7be72-7ec8-4f50-e7c1-977040b0751d"
      },
      "outputs": [
        {
          "data": {
            "text/plain": [
              "MLPClassifier(activation='tanh', alpha=0.0001, batch_size='auto', beta_1=0.9,\n",
              "              beta_2=0.999, early_stopping=False, epsilon=1e-08,\n",
              "              hidden_layer_sizes=100, learning_rate='adaptive',\n",
              "              learning_rate_init=0.001, max_fun=15000, max_iter=5000,\n",
              "              momentum=0.9, n_iter_no_change=10, nesterovs_momentum=True,\n",
              "              power_t=0.5, random_state=1, shuffle=True, solver='sgd',\n",
              "              tol=0.0001, validation_fraction=0.1, verbose=False,\n",
              "              warm_start=False)"
            ]
          },
          "execution_count": 142,
          "metadata": {},
          "output_type": "execute_result"
        }
      ],
      "source": [
        "grid_search.best_estimator_"
      ]
    },
    {
      "cell_type": "code",
      "execution_count": null,
      "metadata": {
        "id": "SgdeBrdvgNdP"
      },
      "outputs": [],
      "source": [
        "best_model = grid_search.best_estimator_"
      ]
    },
    {
      "cell_type": "code",
      "execution_count": null,
      "metadata": {
        "id": "mFp743BtgPec"
      },
      "outputs": [],
      "source": [
        "y_train_predict_prob = best_model.predict_proba(X_train_scaled)\n",
        "y_test_predict_prob = best_model.predict_proba(X_test_scaled)"
      ]
    },
    {
      "cell_type": "code",
      "execution_count": null,
      "metadata": {
        "id": "iwjTpjxHhPzv"
      },
      "outputs": [],
      "source": [
        "from sklearn import metrics"
      ]
    },
    {
      "cell_type": "code",
      "execution_count": null,
      "metadata": {
        "colab": {
          "base_uri": "https://localhost:8080/"
        },
        "id": "zqcKQpH1gTg-",
        "outputId": "5f90f83d-6b30-4daa-d9ee-b74b56504eb1"
      },
      "outputs": [
        {
          "name": "stdout",
          "output_type": "stream",
          "text": [
            "0.45 1.0\n",
            "              precision    recall  f1-score   support\n",
            "\n",
            "           0       1.00      0.99      0.99       459\n",
            "           1       0.95      1.00      0.97        87\n",
            "\n",
            "    accuracy                           0.99       546\n",
            "   macro avg       0.97      0.99      0.98       546\n",
            "weighted avg       0.99      0.99      0.99       546\n",
            "\n",
            "              precision    recall  f1-score   support\n",
            "\n",
            "           0       0.99      0.99      0.99       197\n",
            "           1       0.95      0.97      0.96        38\n",
            "\n",
            "    accuracy                           0.99       235\n",
            "   macro avg       0.97      0.98      0.98       235\n",
            "weighted avg       0.99      0.99      0.99       235\n",
            "\n",
            "0.46 1.0\n",
            "              precision    recall  f1-score   support\n",
            "\n",
            "           0       1.00      0.99      0.99       459\n",
            "           1       0.95      1.00      0.97        87\n",
            "\n",
            "    accuracy                           0.99       546\n",
            "   macro avg       0.97      0.99      0.98       546\n",
            "weighted avg       0.99      0.99      0.99       546\n",
            "\n",
            "              precision    recall  f1-score   support\n",
            "\n",
            "           0       0.99      0.99      0.99       197\n",
            "           1       0.95      0.97      0.96        38\n",
            "\n",
            "    accuracy                           0.99       235\n",
            "   macro avg       0.97      0.98      0.98       235\n",
            "weighted avg       0.99      0.99      0.99       235\n",
            "\n",
            "0.47 1.0\n",
            "              precision    recall  f1-score   support\n",
            "\n",
            "           0       1.00      0.99      0.99       459\n",
            "           1       0.95      1.00      0.97        87\n",
            "\n",
            "    accuracy                           0.99       546\n",
            "   macro avg       0.97      0.99      0.98       546\n",
            "weighted avg       0.99      0.99      0.99       546\n",
            "\n",
            "              precision    recall  f1-score   support\n",
            "\n",
            "           0       0.99      0.99      0.99       197\n",
            "           1       0.95      0.95      0.95        38\n",
            "\n",
            "    accuracy                           0.98       235\n",
            "   macro avg       0.97      0.97      0.97       235\n",
            "weighted avg       0.98      0.98      0.98       235\n",
            "\n",
            "0.48 1.0\n",
            "              precision    recall  f1-score   support\n",
            "\n",
            "           0       1.00      0.99      1.00       459\n",
            "           1       0.97      1.00      0.98        87\n",
            "\n",
            "    accuracy                           0.99       546\n",
            "   macro avg       0.98      1.00      0.99       546\n",
            "weighted avg       0.99      0.99      0.99       546\n",
            "\n",
            "              precision    recall  f1-score   support\n",
            "\n",
            "           0       0.99      0.99      0.99       197\n",
            "           1       0.95      0.95      0.95        38\n",
            "\n",
            "    accuracy                           0.98       235\n",
            "   macro avg       0.97      0.97      0.97       235\n",
            "weighted avg       0.98      0.98      0.98       235\n",
            "\n",
            "0.49 0.9885057471264368\n",
            "              precision    recall  f1-score   support\n",
            "\n",
            "           0       1.00      1.00      1.00       459\n",
            "           1       0.98      0.99      0.98        87\n",
            "\n",
            "    accuracy                           0.99       546\n",
            "   macro avg       0.99      0.99      0.99       546\n",
            "weighted avg       0.99      0.99      0.99       546\n",
            "\n",
            "              precision    recall  f1-score   support\n",
            "\n",
            "           0       0.99      0.99      0.99       197\n",
            "           1       0.95      0.95      0.95        38\n",
            "\n",
            "    accuracy                           0.98       235\n",
            "   macro avg       0.97      0.97      0.97       235\n",
            "weighted avg       0.98      0.98      0.98       235\n",
            "\n",
            "0.5 0.9885057471264368\n",
            "              precision    recall  f1-score   support\n",
            "\n",
            "           0       1.00      1.00      1.00       459\n",
            "           1       0.98      0.99      0.98        87\n",
            "\n",
            "    accuracy                           0.99       546\n",
            "   macro avg       0.99      0.99      0.99       546\n",
            "weighted avg       0.99      0.99      0.99       546\n",
            "\n",
            "              precision    recall  f1-score   support\n",
            "\n",
            "           0       0.99      0.99      0.99       197\n",
            "           1       0.95      0.95      0.95        38\n",
            "\n",
            "    accuracy                           0.98       235\n",
            "   macro avg       0.97      0.97      0.97       235\n",
            "weighted avg       0.98      0.98      0.98       235\n",
            "\n",
            "0.51 0.9770114942528736\n",
            "              precision    recall  f1-score   support\n",
            "\n",
            "           0       1.00      1.00      1.00       459\n",
            "           1       0.98      0.98      0.98        87\n",
            "\n",
            "    accuracy                           0.99       546\n",
            "   macro avg       0.99      0.99      0.99       546\n",
            "weighted avg       0.99      0.99      0.99       546\n",
            "\n",
            "              precision    recall  f1-score   support\n",
            "\n",
            "           0       0.98      0.99      0.99       197\n",
            "           1       0.95      0.92      0.93        38\n",
            "\n",
            "    accuracy                           0.98       235\n",
            "   macro avg       0.97      0.96      0.96       235\n",
            "weighted avg       0.98      0.98      0.98       235\n",
            "\n",
            "0.52 0.9655172413793104\n",
            "              precision    recall  f1-score   support\n",
            "\n",
            "           0       0.99      1.00      0.99       459\n",
            "           1       0.98      0.97      0.97        87\n",
            "\n",
            "    accuracy                           0.99       546\n",
            "   macro avg       0.99      0.98      0.98       546\n",
            "weighted avg       0.99      0.99      0.99       546\n",
            "\n",
            "              precision    recall  f1-score   support\n",
            "\n",
            "           0       0.98      0.99      0.99       197\n",
            "           1       0.95      0.92      0.93        38\n",
            "\n",
            "    accuracy                           0.98       235\n",
            "   macro avg       0.97      0.96      0.96       235\n",
            "weighted avg       0.98      0.98      0.98       235\n",
            "\n",
            "0.53 0.9655172413793104\n",
            "              precision    recall  f1-score   support\n",
            "\n",
            "           0       0.99      1.00      0.99       459\n",
            "           1       0.98      0.97      0.97        87\n",
            "\n",
            "    accuracy                           0.99       546\n",
            "   macro avg       0.99      0.98      0.98       546\n",
            "weighted avg       0.99      0.99      0.99       546\n",
            "\n",
            "              precision    recall  f1-score   support\n",
            "\n",
            "           0       0.98      0.99      0.99       197\n",
            "           1       0.97      0.92      0.95        38\n",
            "\n",
            "    accuracy                           0.98       235\n",
            "   macro avg       0.98      0.96      0.97       235\n",
            "weighted avg       0.98      0.98      0.98       235\n",
            "\n",
            "0.54 0.9540229885057471\n",
            "              precision    recall  f1-score   support\n",
            "\n",
            "           0       0.99      1.00      0.99       459\n",
            "           1       0.98      0.95      0.97        87\n",
            "\n",
            "    accuracy                           0.99       546\n",
            "   macro avg       0.98      0.97      0.98       546\n",
            "weighted avg       0.99      0.99      0.99       546\n",
            "\n",
            "              precision    recall  f1-score   support\n",
            "\n",
            "           0       0.98      0.99      0.99       197\n",
            "           1       0.97      0.92      0.95        38\n",
            "\n",
            "    accuracy                           0.98       235\n",
            "   macro avg       0.98      0.96      0.97       235\n",
            "weighted avg       0.98      0.98      0.98       235\n",
            "\n",
            "0.55 0.9540229885057471\n",
            "              precision    recall  f1-score   support\n",
            "\n",
            "           0       0.99      1.00      0.99       459\n",
            "           1       0.98      0.95      0.97        87\n",
            "\n",
            "    accuracy                           0.99       546\n",
            "   macro avg       0.98      0.97      0.98       546\n",
            "weighted avg       0.99      0.99      0.99       546\n",
            "\n",
            "              precision    recall  f1-score   support\n",
            "\n",
            "           0       0.98      0.99      0.99       197\n",
            "           1       0.97      0.92      0.95        38\n",
            "\n",
            "    accuracy                           0.98       235\n",
            "   macro avg       0.98      0.96      0.97       235\n",
            "weighted avg       0.98      0.98      0.98       235\n",
            "\n"
          ]
        }
      ],
      "source": [
        "for j in np.arange(0.45,0.55,0.01):\n",
        "  custom_prob = j\n",
        "  custom_cutoff_train = []\n",
        "  custom_cutoff_test = []\n",
        "  for i in range(0,len(y_train_predict_prob[:,1])):\n",
        "    if y_train_predict_prob[:,1][i] > custom_prob:\n",
        "      a = 1\n",
        "    else:\n",
        "      a = 0\n",
        "\n",
        "    custom_cutoff_train.append(a)\n",
        "  for i in range(0,len(y_test_predict_prob[:,1])):\n",
        "    if y_test_predict_prob[:,1][i] > custom_prob:\n",
        "      a = 1\n",
        "    else:\n",
        "      a = 0\n",
        "\n",
        "    custom_cutoff_test.append(a)\n",
        "\n",
        "  print(round(j,3) , metrics.recall_score(Y_train,custom_cutoff_train))\n",
        "  print(classification_report(Y_train,custom_cutoff_train))\n",
        "  print(classification_report(Y_test,custom_cutoff_test))\n",
        "\n"
      ]
    },
    {
      "cell_type": "markdown",
      "metadata": {
        "id": "ZxhgcBCwiQ2W"
      },
      "source": [
        "#### Best Model : \n",
        "MLPClassifier(activation='tanh', alpha=0.0001, batch_size='auto', beta_1=0.9,\n",
        "              beta_2=0.999, early_stopping=False, epsilon=1e-08,\n",
        "              hidden_layer_sizes=100, learning_rate='adaptive',\n",
        "              learning_rate_init=0.001, max_fun=15000, max_iter=5000,\n",
        "              momentum=0.9, n_iter_no_change=10, nesterovs_momentum=True,\n",
        "              power_t=0.5, random_state=1, shuffle=True, solver='sgd',\n",
        "              tol=0.0001, validation_fraction=0.1, verbose=False,\n",
        "              warm_start=False)\n",
        "#### Custom custoff : 0.46 \n",
        "#### Metrics score: 1.0\n"
      ]
    },
    {
      "cell_type": "markdown",
      "metadata": {
        "id": "vSYRbQV7ieTF"
      },
      "source": [
        "Train score"
      ]
    },
    {
      "cell_type": "code",
      "execution_count": null,
      "metadata": {
        "id": "kDPWjlPTgqe8"
      },
      "outputs": [],
      "source": [
        "              precision    recall  f1-score   support\n",
        "\n",
        "           0       1.00      0.99      0.99       459\n",
        "           1       0.95      1.00      0.97        87\n",
        "\n",
        "    accuracy                           0.99       546\n",
        "   macro avg       0.97      0.99      0.98       546\n",
        "weighted avg       0.99      0.99      0.99       546\n",
        "\n",
        "              precision    recall  f1-score   support\n",
        "\n",
        "           0       0.99      0.99      0.99       197\n",
        "           1       0.95      0.97      0.96        38\n",
        "\n",
        "    accuracy                           0.99       235\n",
        "   macro avg       0.97      0.98      0.98       235\n",
        "weighted avg       0.99      0.99      0.99       235\n"
      ]
    },
    {
      "cell_type": "markdown",
      "metadata": {
        "id": "GiV2UDWBib8P"
      },
      "source": [
        "Test Score"
      ]
    },
    {
      "cell_type": "code",
      "execution_count": null,
      "metadata": {
        "id": "_wS6TnsLicFU"
      },
      "outputs": [],
      "source": [
        "              precision    recall  f1-score   support\n",
        "\n",
        "           0       0.99      0.99      0.99       197\n",
        "           1       0.95      0.97      0.96        38\n",
        "\n",
        "    accuracy                           0.99       235\n",
        "   macro avg       0.97      0.98      0.98       235\n",
        "weighted avg       0.99      0.99      0.99       235\n"
      ]
    }
  ],
  "metadata": {
    "colab": {
      "provenance": []
    },
    "kernelspec": {
      "display_name": "Python 3",
      "language": "python",
      "name": "python3"
    },
    "language_info": {
      "codemirror_mode": {
        "name": "ipython",
        "version": 3
      },
      "file_extension": ".py",
      "mimetype": "text/x-python",
      "name": "python",
      "nbconvert_exporter": "python",
      "pygments_lexer": "ipython3",
      "version": "3.8.5"
    }
  },
  "nbformat": 4,
  "nbformat_minor": 0
}